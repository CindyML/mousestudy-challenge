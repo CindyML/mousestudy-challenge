


# Dependencies and Setup
import matplotlib.pyplot as plt
import pandas as pd
import scipy.stats as st
from scipy.stats import linregress

# Study data files
mouse_metadata_path = "C:/Users/cynth/Module_5_Starter_Code/Starter_Code/Pymaceuticals/data/Mouse_metadata.csv"
study_results_path = "C:/Users/cynth/Module_5_Starter_Code/Starter_Code/Pymaceuticals/data/Study_results.csv"

# Read the mouse data and the study results
mouse_metadata = pd.read_csv(mouse_metadata_path)
study_results = pd.read_csv(study_results_path)

# Combine the data into a single DataFrame
mouse_study = pd.merge(mouse_metadata, study_results, how="left", on=["Mouse ID", "Mouse ID"])

#mouse_study = pd.concat([mouse_metadata, study_results], axis=1)
#mouse_study

# Display the data table for preview
mouse_study.head(20)



# Checking the number of mice.
mouse_study_df = len(mouse_study["Mouse ID"].unique())
mouse_study_df


#for student use
data_types = mouse_study.dtypes
data_types



#for student use
mouse_study["Mouse ID"].nunique()


mouse_study.duplicated().sum()


# Our data should be uniquely identified by Mouse ID and Timepoint
# Get the duplicate mice by ID number that shows up for Mouse ID and Timepoint. 
mouse_study.duplicated(subset=['Mouse ID', 'Timepoint']).sum()


# Optional: Get all the data for the duplicate mouse ID. 
mouse_study[mouse_study.duplicated(subset=['Mouse ID', 'Timepoint'], keep=False)]


mouse_study[mouse_study["Mouse ID"] == "g989"]


g989_index = mouse_study[mouse_study["Mouse ID"] == "g989"].index
g989_index


mouse_study.drop(g989_index, inplace=True)


## Create a clean DataFrame by dropping the duplicate mouse by its ID.
mouse_study


# Checking the number of mice in the clean DataFrame.
mouse_study["Mouse ID"].nunique()





## Generate a summary statistics table of mean, median, variance, standard deviation, and SEM of the tumor volume for each regimen
## Use groupby and summary statistical methods to calculate the following properties of each drug regimen: 
## mean, median, variance, standard deviation, and SEM of the tumor volume. 
    #mouse_study.groupby('Drug Regimen') 
    #mouse_study
mean_df = mouse_study.groupby('Drug Regimen')['Tumor Volume (mm3)'].mean()
mean_df.head(20)


median = mouse_study.groupby('Drug Regimen')['Tumor Volume (mm3)'].median()
median.head(20)


variance = mouse_study.groupby('Drug Regimen')['Tumor Volume (mm3)'].var()
variance.head(20)


std = mouse_study.groupby('Drug Regimen')['Tumor Volume (mm3)'].std()
std


#SEM = sem(mouse_study.groupby('Drug Regimen')['Tumor Volume (mm3)'], axis=1)
SEM = mouse_study.groupby('Drug Regimen')['Tumor Volume (mm3)'].sem()
SEM.head(20)


#mouse_study.groupby('Drug Regimen') 
#mouse_study["Mouse ID"].nunique()
drug_regimen = mouse_study.groupby('Drug Regimen')['Drug Regimen'].nunique()
drug_regimen


type(drug_regimen)


new_stats = pd.concat([drug_regimen, mean_df, median, variance, std, SEM], axis=1, keys=["Drug Regimen", "Mean Tumor Volume", "Median Tumor Volume", "Tumor Volume Variance", "Tumor Volume Std. Dev.", "Tumor Volume Std. Err."])
new_stats.index.name = None
new_stats



type(new_stats)


type('Drug Regimen')


print(new_stats.index)


new_stats_rn = new_stats.rename(columns={'Drug Regimen': 'Remove'})
new_stats_rn


print(new_stats_rn.index.name)


new_stats_rn.index.rename('Drug Regimen', inplace=True)
new_stats_rn


# Generate a summary statistics table of mean, median, variance, standard deviation, and SEM of the tumor volume for each regimen
final_stats = new_stats_rn.drop('Remove', axis=1)
final_stats


# Using the aggregation method, produce the same summary statistics in a single line


summary_stats = final_stats.agg(['mean', 'median', 'var', 'std', 'sem'])
summary_stats





# PRE-WORK Generate a bar plot showing the total number of rows (Mouse ID/Timepoints) for each drug regimen using Pandas.
mouse_study.groupby('Drug Regimen') 
mouse_study


study_counts = mouse_study.groupby('Drug Regimen')[["Mouse ID", "Timepoint"]].value_counts().reset_index(name='count')
study_counts


grouped_data = study_counts.groupby('Drug Regimen')['count'].sum()
grouped_data


# FINAL Generate a bar plot showing the total number of rows (Mouse ID/Timepoints) for each drug regimen using Pandas.
#grouped_data_sorted = grouped_data.sort_values(by='count', ascending=False)
grouped_data.plot(kind='bar', x='Drug Regimen', y='count')


# FINAL Generate a bar plot showing the total number of rows (Mouse ID/Timepoints) for each drug regimen using pyplot.
plt.figure(figsize=(8,6))
grouped_data.plot(kind='bar', color='skyblue')
plt.xlabel('Drug Regimen')
plt.ylabel('No. of Observed Mouse Timepoints')
plt.xticks(rotation=0)
plt.tight_layout()
plt.show()


# PRE-WORK Generate a pie plot showing the distribution of female versus male mice using Pandas
mouse_study.groupby('Sex') 
mouse_study


# Generate a pie plot showing the distribution of female versus male mice using Pandas
study_counts_sex = mouse_study.groupby('Sex')["Mouse ID"].nunique()
df_unique_counts = pd.DataFrame(study_counts_sex)
df_unique_counts


df_unique_counts.dtypes


df_unique_counts.index


# FINAL Generate a pie plot showing the distribution of female versus male mice using Pandas
df_unique_counts.plot(kind='pie', y='Mouse ID', autopct='%1.0f%%')


# FINAL Generate a pie plot showing the distribution of female versus male mice using pyplot
# Extract data for the pie chart
pie_data = df_unique_counts['Mouse ID']  # Values for pie chart slices
pie_labels = df_unique_counts['Mouse ID']  # Labels for pie chart slices

# Create the pie chart
plt.figure(figsize=(6, 6))  # Adjust figure size as needed
plt.pie(pie_data, labels=pie_labels, autopct="%1.1f%%")  # Customize options

# Optional customizations
plt.title('Sex')
plt.axis('equal') 

plt.show()





#mouse_study


# Calculate the final tumor volume of each mouse across four of the treatment regimens:  
# Capomulin, Ramicane, Infubinol, and Ceftamin
# Start by getting the last (greatest) timepoint for each mouse
max_by = mouse_study.groupby(['Mouse ID', 'Drug Regimen'])['Timepoint'].max()
max_by.head(20)


# Putting last (greatest) timepoint for each mouse into a data frame
max_by_df = max_by.to_frame()
max_by_df.head()


# EXTRA STEP
# Merge this group df with the original DataFrame to get the tumor volume at the last timepoint
new_mouse_study = mouse_study[['Mouse ID', 'Drug Regimen', 'Timepoint', 'Tumor Volume (mm3)']]
new_mouse_study


# Merge this group df with the original DataFrame to get the tumor volume at the last timepoint
merged_df = max_by_df.merge(new_mouse_study, on=['Mouse ID', 'Timepoint'])
merged_df


#Put treatments into a list for for loop (and later for plot labels)
#BEGIN
drug_regimen_lst = merged_df.groupby('Drug Regimen')['Drug Regimen'].nunique()
drug_regimen_lst


if isinstance(drug_regimen_lst, list):
  print("Data is a list")

# Check if it's a pandas Series
elif isinstance(drug_regimen_lst, pd.Series):
  print("Data is a pandas Series")

# Check if it's a pandas DataFrame (optional)
elif isinstance(drug_regimen_lst, pd.DataFrame):
  print("Data is a pandas DataFrame")

# If none of the above, it's likely another data type
else:
  print("Data is not a list, Series, or DataFrame")


#Put treatments into a list for for loop (and later for plot labels)
drug_regimen.index


# Put treatments into a list for for loop (and later for plot labels)
regimen_list = list(drug_regimen_lst.index.values)
regimen_list


if isinstance(regimen_list, list):
  print("Data is a list")

# Check if it's a pandas Series
elif isinstance(regimen_list, pd.Series):
  print("Data is a pandas Series")

# Check if it's a pandas DataFrame (optional)
elif isinstance(regimen_list, pd.DataFrame):
  print("Data is a pandas DataFrame")

# If none of the above, it's likely another data type
else:
  print("Data is not a list, Series, or DataFrame")


#Put treatments into a list for for loop (and later for plot labels)
#END
data = ['Capomulin', 'Ceftamin', 'Infubinol', 'Ketapril', 'Naftisol', 'Placebo', 'Propriva', 'Ramicane', 'Stelasyn', 'Zoniferol']
condition1 = lambda x: x in ['Capomulin', 'Ramicane', 'Infubinol', 'Ceftamin']
filtered_list = [item for item in data if condition1(item)]
print(filtered_list)


type(filtered_list)


# Create empty list to fill with tumor vol data (for plotting)
list_vol = []
print(list_vol)


# tumor vol data
list_vol = merged_df['Tumor Volume (mm3)'].tolist()
list_vol


row_count_list = len(list_vol)
print(row_count_list)


reg = ['Capomulin', 'Ramicane', 'Infubinol', 'Ceftamin']
filtered_df = merged_df[(merged_df['Drug Regimen'] == reg[0]) | 
                            (merged_df['Drug Regimen'] == reg[1]) |
                            (merged_df['Drug Regimen'] == reg[2]) |
                            (merged_df['Drug Regimen'] == reg[3])]
filtered_df


# Calculate the IQR and quantitatively determine if there are any potential outliers. 
Q1 = filtered_df['Tumor Volume (mm3)'].quantile(0.25)
Q3 = filtered_df['Tumor Volume (mm3)'].quantile(0.75)
IQR = Q3 - Q1

threshold = 1.5
outliers = filtered_df[(filtered_df['Tumor Volume (mm3)'] < lowerfence) | (filtered_df['Tumor Volume (mm3)'] > upperfence)] #??

upperfence = Q3 + (1.5 * IQR)
lowerfence = Q1 - (1.5*IQR)
print("This is IQR:", IQR)
print("This is Upperfence:", upperfence)
print("This is Lowerfence:", lowerfence)
print("This is Q1:", Q1)
print("This is Q3:", Q3)
print(outliers) #??

   


# Generate a box plot that shows the distrubution of the tumor volume for each treatment group.






# Generate a line plot of tumor volume vs. time point for a single mouse treated with Capomulin
filtered_df = new_mouse_study[new_mouse_study['Drug Regimen'] == 'Capomulin']
filtered_df_sort = filtered_df.sort_values(by='Mouse ID')
filtered_df_sort_b128 = filtered_df_sort[filtered_df_sort["Mouse ID"].str.contains("b128")] 
filtered_df_sort_b128


#filtered_df_sort_b128.plot(kind='line', x='Timepoint', y='Tumor Volume (mm3)')
plt.figure(figsize=(10,6))
plt.plot(filtered_df_sort_b128['Timepoint'], filtered_df_sort_b128['Tumor Volume (mm3)'], marker='o', color='blue')
plt.title("Capomulin treatment of mouse b128")
plt.xlabel("Timepoint (days)")
plt.ylabel("Tumor Volume (mm3)")
plt.grid(False)
plt.show()


#x_values = filtered_df_sort_b128['Timepoint']
#y_values = filtered_df_sort_b128['Tumor Volume (mm3)']
#plt.scatter(x_values,y_values)
#plt.xlabel('Timepoint (days)')
#plt.ylabel('Tumor Volume (mm3)')
#plt.show()


#x_values = filtered_df_sort_b128['Timepoint']
#y_values = filtered_df_sort_b128['Tumor Volume (mm3)']
#(slope, intercept, rvalue, pvalue, stderr) = linregress(x_values, y_values)
#regress_values = x_values * slope + intercept
#line_eq = "y = " + str(round(slope,2)) + "x + " + str(round(intercept,2))
#plt.scatter(x_values,y_values)
#plt.plot(x_values,regress_values,"r-")
#plt.annotate(line_eq,(5.8,0.8),fontsize=15,color="red")
#plt.xlabel('Timepoint (days)')
#plt.ylabel('Tumor Volume (mm3)')
#plt.show()


# PRE-STEPS: Generate a scatter plot of mouse weight vs. the average observed tumor volume for the entire Capomulin regimen


mouse_study_i = mouse_study.set_index("Mouse ID")
#mouse_study_i2 = mouse_study_i.groupby(["Mouse ID"])["Tumor Volume (mm3)"].mean()
mouse_study_idf = mouse_study_i[mouse_study_i['Drug Regimen'] == 'Capomulin']
mouse_study_idf


mouse_study_idf_drop = mouse_study_idf.drop(['Sex', 'Age_months', 'Timepoint', 'Metastatic Sites'], axis=1)
mouse_study_idf_drop


# LAST STEPS: Generate a scatter plot of mouse weight vs. the average observed tumor volume for the entire Capomulin regimen
average_by_group = mouse_study_idf_drop.groupby(['Mouse ID', 'Drug Regimen'])[['Weight (g)', 'Tumor Volume (mm3)']].mean()
average_by_group.head()


x_values = average_by_group['Weight (g)']
y_values = average_by_group['Tumor Volume (mm3)']
plt.scatter(x_values, y_values)
plt.xlabel('Mouse Weight')
plt.ylabel('Average Observed Tumor Volume')
plt.title('Capomulin Regimen')
plt.show





# Calculate the correlation coefficient and a linear regression model 
# for mouse weight and average observed tumor volume for the entire Capomulin regimen


x_values = average_by_group['Weight (g)']
y_values = average_by_group['Tumor Volume (mm3)']
(slope, intercept, rvalue, pvalue, stderr) = linregress(x_values, y_values)
regress_values = x_values * slope + intercept
line_eq = "y = " + str(round(slope,2)) + "x + " + str(round(intercept,2))
plt.scatter(x_values,y_values)
plt.plot(x_values,regress_values,"r-")
plt.annotate(line_eq,(5.8,0.8),fontsize=15,color="red")
plt.xlabel('Mouse Weight')
plt.ylabel('Average Observed Tumor Volume')
plt.title('Capomulin Regimen')
plt.show
